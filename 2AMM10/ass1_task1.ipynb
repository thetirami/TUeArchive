{
  "cells": [
    {
      "cell_type": "markdown",
      "metadata": {
        "id": "1v_3Kdq4tqYC"
      },
      "source": [
        "<a href=\"https://colab.research.google.com/github/vlamen/tue-deeplearning/blob/main/assignments/assignment1/workbook-task1.1.ipynb\" target=\"_parent\"><img src=\"https://colab.research.google.com/assets/colab-badge.svg\" alt=\"Open In Colab\"/></a>"
      ]
    },
    {
      "cell_type": "code",
      "execution_count": null,
      "metadata": {
        "colab": {
          "base_uri": "https://localhost:8080/"
        },
        "id": "MuVJoCROtogK",
        "outputId": "1d205c80-e225-4be1-84c1-e8e05d6cc3b9"
      },
      "outputs": [
        {
          "name": "stdout",
          "output_type": "stream",
          "text": [
            "Populating the interactive namespace from numpy and matplotlib\n"
          ]
        }
      ],
      "source": [
        "import requests\n",
        "import io\n",
        "\n",
        "%pylab inline"
      ]
    },
    {
      "cell_type": "markdown",
      "metadata": {
        "id": "_x0WIjQ7togW"
      },
      "source": [
        "### Training data set\n",
        "\n",
        "For task 1 of Assignment 1 you need to use a specific data set prepared using images from the [Omniglot dataset](https://github.com/brendenlake/omniglot). The provided training data set contains 18.800 binary images of handwritten characters of size (28,28). Each of these images depicts one of 893 different characters from 29 different alphabets. Each image is accompanied by a label that is encoded as an interger $y\\in\\{0, 1, ..., 892\\}$ that indicate the caracter depicted in the image. The following cell provides code that loads the data from hardcoded URLs.\n",
        "\n",
        "You can use the code in this cell to load the dataset or download the data set from the given URLs to your local drive (or your Google drive) and modify the code to load the data from another location. \n"
      ]
    },
    {
      "cell_type": "code",
      "execution_count": null,
      "metadata": {
        "colab": {
          "base_uri": "https://localhost:8080/"
        },
        "id": "dLCixBNZtogX",
        "outputId": "a26805dd-3e2e-4054-edc5-33458226c308"
      },
      "outputs": [
        {
          "name": "stdout",
          "output_type": "stream",
          "text": [
            "train_x shape: (18800, 28, 28)\n",
            "train_y shape: (18800,)\n",
            "\n"
          ]
        }
      ],
      "source": [
        "def load_numpy_arr_from_url(url):\n",
        "    \"\"\"\n",
        "    Loads a numpy array from surfdrive. \n",
        "    \n",
        "    Input:\n",
        "    url: Download link of dataset \n",
        "    \n",
        "    Outputs:\n",
        "    dataset: numpy array with input features or labels\n",
        "    \"\"\"\n",
        "    \n",
        "    response = requests.get(url)\n",
        "    response.raise_for_status()\n",
        "\n",
        "    return np.load(io.BytesIO(response.content)) \n",
        "    \n",
        "    \n",
        "    \n",
        "# Downloading may take a while..\n",
        "train_x = load_numpy_arr_from_url('https://surfdrive.surf.nl/files/index.php/s/tvQmLyY7MhVsADb/download')\n",
        "train_y = load_numpy_arr_from_url('https://surfdrive.surf.nl/files/index.php/s/z234AHrQqx9RVGH/download')\n",
        "\n",
        "print(f\"train_x shape: {train_x.shape}\")\n",
        "print(f\"train_y shape: {train_y.shape}\\n\")"
      ]
    },
    {
      "cell_type": "markdown",
      "metadata": {
        "id": "FsyaadG4togZ"
      },
      "source": [
        "### Query data set\n",
        "\n",
        "For this task you need to use the following query data set. The dataset contains 100 sets of 6 images each. The images are also of hand written characters, however these characters are not present in the training data set. The characters in the query data set all come from the Greek alphabet that is not part of the set of alphabets in the training data. \n",
        "\n",
        "Each test set consists of 1 query image and 5 candidate images. All images are the same size (28x28). The test data is organized in two numpy arrays. One for the query images with shape (100, 1, 28, 28) and another for the candidate imagaes with shape (100, 5, 28, 28). \n",
        "\n",
        "The task is to develop a model that enables selecting the image which is depicting the same character as the anchor image out of 5 test images. These test images are declared in the `query_x` numpy array . \n",
        "\n",
        "Finally, we plot the first 5 cases in the query dataset. The first column corresponds with the anchor images of each of the 5 cases. All other images are test images from which the task is to recognize the anchor image. The image enclosed in a red box denotes the target image that your model should be able to recognize as the same class as the anchor image. "
      ]
    },
    {
      "cell_type": "code",
      "execution_count": null,
      "metadata": {
        "colab": {
          "base_uri": "https://localhost:8080/"
        },
        "id": "bHZcmBr4togZ",
        "outputId": "780c79f6-6a31-4853-e4a0-6bb77a69dc7c"
      },
      "outputs": [
        {
          "name": "stdout",
          "output_type": "stream",
          "text": [
            "query images have shape: (100, 1, 28, 28)\n",
            "target sets have shape: (100, 5, 28, 28)\n",
            "ground truth: (100,)\n"
          ]
        }
      ],
      "source": [
        "query_dataset = load_numpy_arr_from_url(\"https://surfdrive.surf.nl/files/index.php/s/YGn5gb7unBEuCLB/download\")\n",
        "queries_true = load_numpy_arr_from_url(\"https://surfdrive.surf.nl/files/index.php/s/0sPeeIFB3W9RPZG/download\")\n",
        "\n",
        "queries, candidates_sets = np.split(query_dataset, [1], axis=1)\n",
        "\n",
        "print(f\"query images have shape: {queries.shape}\")\n",
        "print(f\"target sets have shape: {candidates_sets.shape}\")\n",
        "print(f\"ground truth: {queries_true.shape}\")"
      ]
    },
    {
      "cell_type": "code",
      "execution_count": null,
      "metadata": {
        "colab": {
          "base_uri": "https://localhost:8080/",
          "height": 1000
        },
        "id": "hDzMPaZMtoga",
        "outputId": "8f37a090-7d49-4e21-91e6-1736be8cdd2f"
      },
      "outputs": [
        {
          "data": {
            "image/png": "[encoded data removed]",
            "text/plain": [
              "<Figure size 1440x360 with 6 Axes>"
            ]
          },
          "metadata": {
            "needs_background": "light",
            "tags": []
          },
          "output_type": "display_data"
        },
        {
          "data": {
            "image/png": "[encoded data removed]",
            "text/plain": [
              "<Figure size 1440x360 with 6 Axes>"
            ]
          },
          "metadata": {
            "needs_background": "light",
            "tags": []
          },
          "output_type": "display_data"
        },
        {
          "data": {
            "image/png": "[encoded data removed]",
            "text/plain": [
              "<Figure size 1440x360 with 6 Axes>"
            ]
          },
          "metadata": {
            "needs_background": "light",
            "tags": []
          },
          "output_type": "display_data"
        },
        {
          "data": {
            "image/png": "[encoded data removed]",
            "text/plain": [
              "<Figure size 1440x360 with 6 Axes>"
            ]
          },
          "metadata": {
            "needs_background": "light",
            "tags": []
          },
          "output_type": "display_data"
        },
        {
          "data": {
            "image/png": "[encoded data removed]",
            "text/plain": [
              "<Figure size 1440x360 with 6 Axes>"
            ]
          },
          "metadata": {
            "needs_background": "light",
            "tags": []
          },
          "output_type": "display_data"
        }
      ],
      "source": [
        "from matplotlib.patches import Rectangle\n",
        "\n",
        "def plot_case(caseID):\n",
        "    \"\"\"\n",
        "    Plots a single sample of the query dataset\n",
        "    \n",
        "    Inputs\n",
        "    caseID: Integer between 0 and 99, each corresponding to a single sample in the query dataset \n",
        "    \"\"\"\n",
        "    \n",
        "    f, axes = plt.subplots(1, 6, figsize=(20,5))\n",
        "    \n",
        "    # plot anchor image\n",
        "    axes[0].imshow(queries[caseID, 0])\n",
        "    axes[0].set_title(f\"Anchor image case {caseID}\", fontsize=10)\n",
        "    \n",
        "    # show all test images images \n",
        "    [ax.imshow(candidates_sets[caseID, i]) for i, ax in enumerate(axes[1:])]\n",
        "    \n",
        "    \n",
        "    # Add the patch to the Axes\n",
        "    axes[queries_true[caseID]].add_patch(Rectangle((0,0),27,27,linewidth=2, edgecolor='r',facecolor='none'))\n",
        "    \n",
        "    \n",
        "    \n",
        "    \n",
        "# plot the first five samples of the query datset\n",
        "[plot_case(caseID) for caseID in range(5)] ;"
      ]
    },
    {
      "cell_type": "code",
      "execution_count": null,
      "metadata": {
        "id": "ObMV6qoI0vc9"
      },
      "outputs": [],
      "source": [
        "from tqdm import tqdm\n",
        "def loss_batch(model, loss_func, xb, yb, opt=None):\n",
        "    \n",
        "    output=model(xb)\n",
        "    loss = loss_func(output, yb)\n",
        "\n",
        "    if opt is not None:\n",
        "        loss.backward()\n",
        "        opt.step()\n",
        "        opt.zero_grad()\n",
        "\n",
        "    _, preds = torch.max(output, 1)\n",
        "    corrects = torch.sum(preds == yb.data)\n",
        "    \n",
        "    return loss.item(), corrects, len(xb)\n",
        "\n",
        "def fit(epochs, model, loss_func, opt, train_dl, valid_dl):\n",
        "\n",
        "    for epoch in tqdm(range(epochs)):\n",
        "        \n",
        "        \n",
        "        # training process\n",
        "        model.train()\n",
        "\n",
        "        running_loss = 0.0\n",
        "        running_corrects = 0\n",
        "        sample_num=0\n",
        "        for xb, yb in train_dl:\n",
        "            \n",
        "            # forward\n",
        "            # backward and optimize only if in training phase\n",
        "            losses, corrects, nums = loss_batch(model, loss_func, xb, yb,opt)\n",
        "            \n",
        "            # statistics\n",
        "            running_loss += losses * xb.size(0)\n",
        "            running_corrects += corrects\n",
        "            sample_num+=nums\n",
        "            \n",
        "        train_loss = running_loss / sample_num\n",
        "        train_acc = running_corrects.double() / sample_num\n",
        "\n",
        "        \n",
        "        # validation process\n",
        "        model.eval()\n",
        "        with torch.no_grad():\n",
        "            running_loss = 0.0\n",
        "            running_corrects = 0\n",
        "            sample_num=0\n",
        "            for xb, yb in valid_dl:\n",
        "                \n",
        "                # forward\n",
        "                losses, corrects, nums = loss_batch(model, loss_func, xb, yb)\n",
        "                \n",
        "                # statistics\n",
        "                running_loss += losses * xb.size(0)\n",
        "                running_corrects += corrects\n",
        "                sample_num+=nums\n",
        "\n",
        "            val_loss = running_loss / sample_num\n",
        "            val_acc = running_corrects.double()/ sample_num\n",
        "            \n",
        "            \n",
        "        # print the results\n",
        "        print(\n",
        "            f'EPOCH: {epoch+1:0>{len(str(epochs))}}/{epochs}',\n",
        "            end=' '\n",
        "        )\n",
        "        print(f'LOSS: {train_loss:.4f}',f'ACC: {train_acc:.4f} ',end=' ')\n",
        "        print(f'VAL-LOSS: {val_loss:.4f}',f'VAL-ACC: {val_acc:.4f} ',end='\\n')"
      ]
    },
    {
      "cell_type": "code",
      "execution_count": null,
      "metadata": {
        "id": "6DE8zSaK7iKo"
      },
      "outputs": [],
      "source": [
        "from torch.utils.data import DataLoader\n",
        "from torch.utils.data import TensorDataset\n",
        "import torch\n",
        "from sklearn.model_selection import train_test_split\n",
        "def get_data(train_ds, valid_ds, bs):\n",
        "    return (\n",
        "        DataLoader(train_ds, batch_size=bs, shuffle=True),\n",
        "        DataLoader(valid_ds, batch_size=bs * 2),\n",
        "    )\n",
        "dev = torch.device(\n",
        "    \"cuda\") if torch.cuda.is_available() else torch.device(\"cpu\")\n",
        "train_x=train_x.astype(np.float32)\n",
        "x_train, x_test, y_train, y_test = train_test_split(train_x, train_y, test_size=0.2, random_state=0,stratify = train_y)\n",
        "y_train=torch.from_numpy(y_train).to(dev)\n",
        "x_train=torch.from_numpy(x_train).to(dev)\n",
        "y_test=torch.from_numpy(y_test).to(dev)\n",
        "x_test=torch.from_numpy(x_test).to(dev)\n",
        "\n",
        "train_ds = TensorDataset(x_train, y_train)\n",
        "test_ds = TensorDataset(x_test, y_test)\n",
        "bs=64\n",
        "train_dl, valid_dl = get_data(train_ds, test_ds, bs)\n",
        "\n"
      ]
    },
    {
      "cell_type": "code",
      "execution_count": null,
      "metadata": {
        "colab": {
          "base_uri": "https://localhost:8080/"
        },
        "id": "ipnAQfjQpNqN",
        "outputId": "4e09de3d-f437-4882-fc4a-05efda9bac4e"
      },
      "outputs": [
        {
          "name": "stdout",
          "output_type": "stream",
          "text": [
            "<class 'torch.Tensor'>\n"
          ]
        }
      ],
      "source": [
        "print(type(x_train))"
      ]
    },
    {
      "cell_type": "code",
      "execution_count": null,
      "metadata": {
        "id": "iBGheYQO_EeY"
      },
      "outputs": [],
      "source": [
        "from torch import nn\n",
        "class Lambda(nn.Module):\n",
        "    def __init__(self, func):\n",
        "        super().__init__()\n",
        "        self.func = func\n",
        "\n",
        "    def forward(self, x):\n",
        "        return self.func(x)\n",
        "def preprocess(x):\n",
        "    return x.view(-1, 1, 28, 28)\n",
        "class test_CNN(nn.Module):\n",
        "    def __init__(self):\n",
        "        super().__init__()\n",
        "        self.front_layer = nn.Sequential(\n",
        "            # Conv Layer block 1\n",
        "            Lambda(preprocess),\n",
        "            nn.Conv2d(in_channels=1, out_channels=32, kernel_size=3, padding=1),\n",
        "            nn.BatchNorm2d(32),\n",
        "            nn.ReLU(inplace=True),\n",
        "            nn.Conv2d(in_channels=32, out_channels=64, kernel_size=3, padding=1),\n",
        "            nn.ReLU(inplace=True),\n",
        "            nn.MaxPool2d(kernel_size=2, stride=2),\n",
        "\n",
        "            # Conv Layer block 2\n",
        "            nn.Conv2d(in_channels=64, out_channels=128, kernel_size=3, padding=1),\n",
        "            nn.BatchNorm2d(128),\n",
        "            nn.ReLU(inplace=True),\n",
        "            nn.Conv2d(in_channels=128, out_channels=128, kernel_size=3, padding=1),\n",
        "            nn.ReLU(inplace=True),\n",
        "            nn.MaxPool2d(kernel_size=2, stride=2),\n",
        "  \n",
        "\n",
        "            # Conv Layer block 3\n",
        "            nn.Conv2d(in_channels=128, out_channels=256, kernel_size=3, padding=1),\n",
        "            nn.BatchNorm2d(256),\n",
        "            nn.ReLU(inplace=True),\n",
        "            nn.Conv2d(in_channels=256, out_channels=256, kernel_size=3, padding=1),\n",
        "            nn.ReLU(inplace=True),\n",
        "            nn.MaxPool2d(kernel_size=2, stride=2),\n",
        "            #nn.AdaptiveAvgPool2d(1),\n",
        "            Lambda(lambda x: x.view(x.size(0), -1)),\n",
        "\n",
        "            #nn.Linear(2304, 1024),\n",
        "            #nn.ReLU(inplace=True),\n",
        "        )\n",
        "\n",
        "        #self.last_layer = nn.Linear(1024, 965)\n",
        "        self.last_layer = nn.Linear(2304, 1024)\n",
        "\n",
        "    def forward(self, x):\n",
        "        \"\"\"Perform forward.\"\"\"\n",
        "        # conv layers\n",
        "        x = x.view(-1, 1, 28, 28)\n",
        "        x = self.front_layer(x)\n",
        "        x = self.last_layer(x)\n",
        "        return x\n",
        "\n",
        "\n"
      ]
    },
    {
      "cell_type": "code",
      "execution_count": null,
      "metadata": {
        "colab": {
          "base_uri": "https://localhost:8080/"
        },
        "id": "unqt-XaK_G3g",
        "outputId": "d7e0dd60-95f4-4fa0-b9e8-debecbec55a0"
      },
      "outputs": [
        {
          "name": "stderr",
          "output_type": "stream",
          "text": [
            "  4%|▎         | 1/28 [00:04<01:53,  4.20s/it]"
          ]
        },
        {
          "name": "stdout",
          "output_type": "stream",
          "text": [
            "EPOCH: 01/28 LOSS: 6.1262 ACC: 0.0279  VAL-LOSS: 4.8866 VAL-ACC: 0.0915 \n"
          ]
        },
        {
          "name": "stderr",
          "output_type": "stream",
          "text": [
            "\r  7%|▋         | 2/28 [00:08<01:47,  4.14s/it]"
          ]
        },
        {
          "name": "stdout",
          "output_type": "stream",
          "text": [
            "EPOCH: 02/28 LOSS: 3.8431 ACC: 0.1946  VAL-LOSS: 3.0926 VAL-ACC: 0.2957 \n"
          ]
        },
        {
          "name": "stderr",
          "output_type": "stream",
          "text": [
            "\r 11%|█         | 3/28 [00:12<01:42,  4.09s/it]"
          ]
        },
        {
          "name": "stdout",
          "output_type": "stream",
          "text": [
            "EPOCH: 03/28 LOSS: 2.3937 ACC: 0.4172  VAL-LOSS: 2.7887 VAL-ACC: 0.3590 \n"
          ]
        },
        {
          "name": "stderr",
          "output_type": "stream",
          "text": [
            "\r 14%|█▍        | 4/28 [00:16<01:37,  4.05s/it]"
          ]
        },
        {
          "name": "stdout",
          "output_type": "stream",
          "text": [
            "EPOCH: 04/28 LOSS: 1.6968 ACC: 0.5535  VAL-LOSS: 1.9429 VAL-ACC: 0.5202 \n"
          ]
        },
        {
          "name": "stderr",
          "output_type": "stream",
          "text": [
            "\r 18%|█▊        | 5/28 [00:20<01:32,  4.03s/it]"
          ]
        },
        {
          "name": "stdout",
          "output_type": "stream",
          "text": [
            "EPOCH: 05/28 LOSS: 1.2963 ACC: 0.6421  VAL-LOSS: 1.6957 VAL-ACC: 0.5644 \n"
          ]
        },
        {
          "name": "stderr",
          "output_type": "stream",
          "text": [
            "\r 21%|██▏       | 6/28 [00:24<01:28,  4.01s/it]"
          ]
        },
        {
          "name": "stdout",
          "output_type": "stream",
          "text": [
            "EPOCH: 06/28 LOSS: 1.0617 ACC: 0.6965  VAL-LOSS: 1.8936 VAL-ACC: 0.5543 \n"
          ]
        },
        {
          "name": "stderr",
          "output_type": "stream",
          "text": [
            "\r 25%|██▌       | 7/28 [00:28<01:23,  4.00s/it]"
          ]
        },
        {
          "name": "stdout",
          "output_type": "stream",
          "text": [
            "EPOCH: 07/28 LOSS: 0.8923 ACC: 0.7420  VAL-LOSS: 1.7580 VAL-ACC: 0.5662 \n"
          ]
        },
        {
          "name": "stderr",
          "output_type": "stream",
          "text": [
            "\r 29%|██▊       | 8/28 [00:32<01:19,  3.99s/it]"
          ]
        },
        {
          "name": "stdout",
          "output_type": "stream",
          "text": [
            "EPOCH: 08/28 LOSS: 0.7705 ACC: 0.7731  VAL-LOSS: 1.4781 VAL-ACC: 0.6311 \n"
          ]
        },
        {
          "name": "stderr",
          "output_type": "stream",
          "text": [
            "\r 32%|███▏      | 9/28 [00:35<01:15,  3.99s/it]"
          ]
        },
        {
          "name": "stdout",
          "output_type": "stream",
          "text": [
            "EPOCH: 09/28 LOSS: 0.6710 ACC: 0.8004  VAL-LOSS: 1.6923 VAL-ACC: 0.6114 \n"
          ]
        },
        {
          "name": "stderr",
          "output_type": "stream",
          "text": [
            "\r 36%|███▌      | 10/28 [00:39<01:11,  3.99s/it]"
          ]
        },
        {
          "name": "stdout",
          "output_type": "stream",
          "text": [
            "EPOCH: 10/28 LOSS: 0.6005 ACC: 0.8207  VAL-LOSS: 1.5722 VAL-ACC: 0.6383 \n"
          ]
        },
        {
          "name": "stderr",
          "output_type": "stream",
          "text": [
            "\r 39%|███▉      | 11/28 [00:43<01:07,  3.98s/it]"
          ]
        },
        {
          "name": "stdout",
          "output_type": "stream",
          "text": [
            "EPOCH: 11/28 LOSS: 0.5139 ACC: 0.8445  VAL-LOSS: 1.4021 VAL-ACC: 0.6747 \n"
          ]
        },
        {
          "name": "stderr",
          "output_type": "stream",
          "text": [
            "\r 43%|████▎     | 12/28 [00:47<01:03,  3.98s/it]"
          ]
        },
        {
          "name": "stdout",
          "output_type": "stream",
          "text": [
            "EPOCH: 12/28 LOSS: 0.4459 ACC: 0.8651  VAL-LOSS: 1.4826 VAL-ACC: 0.6660 \n"
          ]
        },
        {
          "name": "stderr",
          "output_type": "stream",
          "text": [
            "\r 46%|████▋     | 13/28 [00:51<00:59,  3.98s/it]"
          ]
        },
        {
          "name": "stdout",
          "output_type": "stream",
          "text": [
            "EPOCH: 13/28 LOSS: 0.4281 ACC: 0.8667  VAL-LOSS: 1.7112 VAL-ACC: 0.6569 \n"
          ]
        },
        {
          "name": "stderr",
          "output_type": "stream",
          "text": [
            "\r 50%|█████     | 14/28 [00:55<00:55,  3.97s/it]"
          ]
        },
        {
          "name": "stdout",
          "output_type": "stream",
          "text": [
            "EPOCH: 14/28 LOSS: 0.4188 ACC: 0.8717  VAL-LOSS: 1.6349 VAL-ACC: 0.6596 \n"
          ]
        },
        {
          "name": "stderr",
          "output_type": "stream",
          "text": [
            "\r 54%|█████▎    | 15/28 [00:59<00:51,  3.97s/it]"
          ]
        },
        {
          "name": "stdout",
          "output_type": "stream",
          "text": [
            "EPOCH: 15/28 LOSS: 0.3964 ACC: 0.8787  VAL-LOSS: 1.6251 VAL-ACC: 0.6614 \n"
          ]
        },
        {
          "name": "stderr",
          "output_type": "stream",
          "text": [
            "\r 57%|█████▋    | 16/28 [01:03<00:47,  3.97s/it]"
          ]
        },
        {
          "name": "stdout",
          "output_type": "stream",
          "text": [
            "EPOCH: 16/28 LOSS: 0.3536 ACC: 0.8927  VAL-LOSS: 1.6388 VAL-ACC: 0.6769 \n"
          ]
        },
        {
          "name": "stderr",
          "output_type": "stream",
          "text": [
            "\r 61%|██████    | 17/28 [01:07<00:43,  3.97s/it]"
          ]
        },
        {
          "name": "stdout",
          "output_type": "stream",
          "text": [
            "EPOCH: 17/28 LOSS: 0.3010 ACC: 0.9099  VAL-LOSS: 1.5898 VAL-ACC: 0.6779 \n"
          ]
        },
        {
          "name": "stderr",
          "output_type": "stream",
          "text": [
            "\r 64%|██████▍   | 18/28 [01:11<00:39,  3.97s/it]"
          ]
        },
        {
          "name": "stdout",
          "output_type": "stream",
          "text": [
            "EPOCH: 18/28 LOSS: 0.2885 ACC: 0.9086  VAL-LOSS: 1.6958 VAL-ACC: 0.6582 \n"
          ]
        },
        {
          "name": "stderr",
          "output_type": "stream",
          "text": [
            "\r 68%|██████▊   | 19/28 [01:15<00:35,  3.97s/it]"
          ]
        },
        {
          "name": "stdout",
          "output_type": "stream",
          "text": [
            "EPOCH: 19/28 LOSS: 0.2445 ACC: 0.9240  VAL-LOSS: 1.7416 VAL-ACC: 0.6689 \n"
          ]
        },
        {
          "name": "stderr",
          "output_type": "stream",
          "text": [
            "\r 71%|███████▏  | 20/28 [01:19<00:31,  3.97s/it]"
          ]
        },
        {
          "name": "stdout",
          "output_type": "stream",
          "text": [
            "EPOCH: 20/28 LOSS: 0.2305 ACC: 0.9295  VAL-LOSS: 1.9321 VAL-ACC: 0.6801 \n"
          ]
        },
        {
          "name": "stderr",
          "output_type": "stream",
          "text": [
            "\r 75%|███████▌  | 21/28 [01:23<00:27,  3.97s/it]"
          ]
        },
        {
          "name": "stdout",
          "output_type": "stream",
          "text": [
            "EPOCH: 21/28 LOSS: 0.2541 ACC: 0.9211  VAL-LOSS: 1.7953 VAL-ACC: 0.6859 \n"
          ]
        },
        {
          "name": "stderr",
          "output_type": "stream",
          "text": [
            "\r 79%|███████▊  | 22/28 [01:27<00:23,  3.98s/it]"
          ]
        },
        {
          "name": "stdout",
          "output_type": "stream",
          "text": [
            "EPOCH: 22/28 LOSS: 0.2310 ACC: 0.9297  VAL-LOSS: 1.6989 VAL-ACC: 0.6968 \n"
          ]
        },
        {
          "name": "stderr",
          "output_type": "stream",
          "text": [
            "\r 82%|████████▏ | 23/28 [01:31<00:19,  3.98s/it]"
          ]
        },
        {
          "name": "stdout",
          "output_type": "stream",
          "text": [
            "EPOCH: 23/28 LOSS: 0.1911 ACC: 0.9436  VAL-LOSS: 1.8670 VAL-ACC: 0.6737 \n"
          ]
        },
        {
          "name": "stderr",
          "output_type": "stream",
          "text": [
            "\r 86%|████████▌ | 24/28 [01:35<00:15,  3.98s/it]"
          ]
        },
        {
          "name": "stdout",
          "output_type": "stream",
          "text": [
            "EPOCH: 24/28 LOSS: 0.2070 ACC: 0.9352  VAL-LOSS: 1.8718 VAL-ACC: 0.6745 \n"
          ]
        },
        {
          "name": "stderr",
          "output_type": "stream",
          "text": [
            "\r 89%|████████▉ | 25/28 [01:39<00:11,  3.98s/it]"
          ]
        },
        {
          "name": "stdout",
          "output_type": "stream",
          "text": [
            "EPOCH: 25/28 LOSS: 0.1878 ACC: 0.9446  VAL-LOSS: 1.9281 VAL-ACC: 0.6944 \n"
          ]
        },
        {
          "name": "stderr",
          "output_type": "stream",
          "text": [
            "\r 93%|█████████▎| 26/28 [01:43<00:07,  3.98s/it]"
          ]
        },
        {
          "name": "stdout",
          "output_type": "stream",
          "text": [
            "EPOCH: 26/28 LOSS: 0.1876 ACC: 0.9439  VAL-LOSS: 1.8637 VAL-ACC: 0.7000 \n"
          ]
        },
        {
          "name": "stderr",
          "output_type": "stream",
          "text": [
            "\r 96%|█████████▋| 27/28 [01:47<00:03,  3.98s/it]"
          ]
        },
        {
          "name": "stdout",
          "output_type": "stream",
          "text": [
            "EPOCH: 27/28 LOSS: 0.1698 ACC: 0.9489  VAL-LOSS: 2.1577 VAL-ACC: 0.6832 \n"
          ]
        },
        {
          "name": "stderr",
          "output_type": "stream",
          "text": [
            "100%|██████████| 28/28 [01:51<00:00,  3.98s/it]"
          ]
        },
        {
          "name": "stdout",
          "output_type": "stream",
          "text": [
            "EPOCH: 28/28 LOSS: 0.1809 ACC: 0.9434  VAL-LOSS: 1.9968 VAL-ACC: 0.7043 \n"
          ]
        },
        {
          "name": "stderr",
          "output_type": "stream",
          "text": [
            "\n"
          ]
        }
      ],
      "source": [
        "from torch import optim\n",
        "import torch.nn.functional as F\n",
        "\n",
        "model = test_CNN()\n",
        "model.to(dev)\n",
        "epochs=28\n",
        "lr = 0.1\n",
        "opt = optim.SGD(model.parameters(), lr=lr, momentum=0.9)\n",
        "loss_func = F.cross_entropy\n",
        "\n",
        "\n",
        "fit(epochs, model, loss_func, opt, train_dl, valid_dl)"
      ]
    },
    {
      "cell_type": "code",
      "execution_count": null,
      "metadata": {
        "id": "TT-nVatndD1c"
      },
      "outputs": [],
      "source": [
        "\n",
        "def calculate_dis(query,candidates):\n",
        "    query=query.astype(np.float32)\n",
        "    query=torch.from_numpy(query).to(dev)\n",
        "    candidates=candidates.astype(np.float32)\n",
        "    candidates=torch.from_numpy(candidates).to(dev)\n",
        "    #print(candidates_sets.shape)\n",
        "    #print(query[0].shape)\n",
        "    #q1=torch.tensor(query[0]) \n",
        "    count=0\n",
        "    for i in range(0,len(queries)):\n",
        "        #print(queries_true[i])\n",
        "        q1=query[i]\n",
        "        candidate=candidates[i]\n",
        "        tensor1=model(q1)\n",
        "        dist=[]\n",
        "        for j in range(0,5):\n",
        "            tensor2=model(candidate[j])\n",
        "            dist.append(torch.sum((tensor1[0]-tensor2[0])**2).item())\n",
        "\n",
        "        rank=[1,2,3,4,5]\n",
        "        for l1 in range(0,4):\n",
        "            for l2 in range(0,4-l1):\n",
        "                #print(l2)\n",
        "                if dist[l2]>dist[l2+1]:\n",
        "                    n=dist[l2]\n",
        "                    dist[l2]=dist[l2+1]\n",
        "                    dist[l2+1]=n\n",
        "                    n=rank[l2]\n",
        "                    rank[l2]=rank[l2+1]\n",
        "                    rank[l2+1]=n\n",
        "        #print(rank)\n",
        "        if rank[0]==queries_true[i]:\n",
        "          count=count+1\n",
        "        sorted_indexes=np.array(rank)\n",
        "        #print(sorted_indexes)\n",
        " \n",
        "calculate_dis(queries,candidates_sets)"
      ]
    },
    {
      "cell_type": "code",
      "execution_count": null,
      "metadata": {
        "id": "RqyseRnwjt4R"
      },
      "outputs": [],
      "source": [
        "## #TODO Modify this function such that you implement you character recognition algorithm here\n",
        "## The test code bellow will call this function with the following parameters \n",
        "## query - the query image (28, 28)\n",
        "## candidates - numpy array of candidate images, shape (5, 28, 28)\n",
        "## return - sorted array of the indexes of the images based on the similarty to the query image \n",
        "def test_model(query, candidates):\n",
        "  # TODO: dummy output that should be substituted by values produced by your solution\n",
        "    query=query.astype(np.float32)\n",
        "    query=torch.from_numpy(query).to(dev)\n",
        "    candidates=candidates.astype(np.float32)\n",
        "    candidates=torch.from_numpy(candidates).to(dev)\n",
        "    #print(candidates.shape)\n",
        "    tensor1=model(query)\n",
        "    dist=[]\n",
        "    for j in range(0,5):\n",
        "        tensor2=model(candidates[j])\n",
        "        dist.append(torch.sum((tensor1[0]-tensor2[0])**2).item())\n",
        "    rank=[1,2,3,4,5]\n",
        "    for l1 in range(0,4):\n",
        "        for l2 in range(0,4-l1):\n",
        "            if dist[l2]>dist[l2+1]:\n",
        "                n=dist[l2]\n",
        "                dist[l2]=dist[l2+1]\n",
        "                dist[l2+1]=n\n",
        "                n=rank[l2]\n",
        "                rank[l2]=rank[l2+1]\n",
        "                rank[l2+1]=n\n",
        "    sorted_indexes=np.array(rank)\n",
        "    # print(dist)\n",
        "    # print(sorted_indexes)\n",
        "    return sorted_indexes"
      ]
    },
    {
      "cell_type": "code",
      "execution_count": null,
      "metadata": {
        "colab": {
          "base_uri": "https://localhost:8080/"
        },
        "id": "LMvs5VZuky4Q",
        "outputId": "6cb7810a-c3a9-48ec-f408-f70960996986"
      },
      "outputs": [
        {
          "name": "stdout",
          "output_type": "stream",
          "text": [
            "top-1 accuracy: 0.91\n",
            "top-3 accuracy: 0.99\n"
          ]
        }
      ],
      "source": [
        "## test top-1\n",
        "def test_top_1(query, candidates, query_true):\n",
        "  sorted_indexes = test_model(query, candidates)\n",
        "  return query_true == sorted_indexes[0]\n",
        "\n",
        "## test top-3\n",
        "def test_top_3(query, candidates, query_true):\n",
        "  sorted_indexes = test_model(query, candidates)\n",
        "  return np.isin(query_true, sorted_indexes[:3])\n",
        "\n",
        "top_1_res = np.array([test_top_1(a, b, c) for (a, b, c) in zip(queries, candidates_sets, queries_true)])\n",
        "top_3_res = np.array([test_top_3(a, b, c) for (a, b, c) in zip(queries, candidates_sets, queries_true)])\n",
        "\n",
        "top_1 = np.count_nonzero(top_1_res) / queries.shape[0]\n",
        "print(f\"top-1 accuracy: {top_1}\")\n",
        "\n",
        "top_3 = np.count_nonzero(top_3_res) / queries.shape[0]\n",
        "print(f\"top-3 accuracy: {top_3}\")\n"
      ]
    },
    {
      "cell_type": "code",
      "execution_count": null,
      "metadata": {
        "colab": {
          "base_uri": "https://localhost:8080/"
        },
        "id": "5qi8Oq0b1rnI",
        "outputId": "66e1ee00-eca7-4853-9928-643304733578"
      },
      "outputs": [
        {
          "name": "stdout",
          "output_type": "stream",
          "text": [
            "[3 4 5 5 3 1 4 4 5 5 2 2 4 5 5 1 3 1 5 3 1 4 4 1 3 2 4 4 4 3 3 2 4 2 2 5 1\n",
            " 2 3 1 1 4 2 1 1 4 5 4 4 2 1 2 1 1 1 3 3 1 3 5 2 5 4 2 5 4 1 4 4 4 4 3 5 3\n",
            " 4 4 1 4 4 1 3 1 2 1 3 5 4 5 3 1 4 3 1 4 2 1 1 2 3 1]\n"
          ]
        }
      ],
      "source": [
        "print(queries_true)"
      ]
    },
    {
      "cell_type": "code",
      "execution_count": null,
      "metadata": {
        "colab": {
          "base_uri": "https://localhost:8080/",
          "height": 1000
        },
        "id": "5KuVFb3pSTYo",
        "outputId": "103a2d4d-25ac-46af-f046-25cd74315b8e"
      },
      "outputs": [
        {
          "name": "stdout",
          "output_type": "stream",
          "text": [
            "[7, 44, 56, 61, 63, 66, 69, 77, 78]\n",
            "[4, 1, 3, 5, 2, 1, 4, 4, 4]\n",
            "[2, 5, 2, 2, 5, 3, 1, 5, 2]\n"
          ]
        },
        {
          "data": {
            "image/png": "[encoded data removed]",
            "text/plain": [
              "<Figure size 1440x360 with 6 Axes>"
            ]
          },
          "metadata": {
            "needs_background": "light",
            "tags": []
          },
          "output_type": "display_data"
        },
        {
          "data": {
            "image/png": "[encoded data removed]",
            "text/plain": [
              "<Figure size 1440x360 with 6 Axes>"
            ]
          },
          "metadata": {
            "needs_background": "light",
            "tags": []
          },
          "output_type": "display_data"
        },
        {
          "data": {
            "image/png": "[encoded data removed]",
            "text/plain": [
              "<Figure size 1440x360 with 6 Axes>"
            ]
          },
          "metadata": {
            "needs_background": "light",
            "tags": []
          },
          "output_type": "display_data"
        },
        {
          "data": {
            "image/png": "[encoded data removed]",
            "text/plain": [
              "<Figure size 1440x360 with 6 Axes>"
            ]
          },
          "metadata": {
            "needs_background": "light",
            "tags": []
          },
          "output_type": "display_data"
        },
        {
          "data": {
            "image/png": "[encoded data removed]",
            "text/plain": [
              "<Figure size 1440x360 with 6 Axes>"
            ]
          },
          "metadata": {
            "needs_background": "light",
            "tags": []
          },
          "output_type": "display_data"
        },
        {
          "data": {
            "image/png": "[encoded data removed]",
            "text/plain": [
              "<Figure size 1440x360 with 6 Axes>"
            ]
          },
          "metadata": {
            "needs_background": "light",
            "tags": []
          },
          "output_type": "display_data"
        },
        {
          "data": {
            "image/png": "[encoded data removed]",
            "text/plain": [
              "<Figure size 1440x360 with 6 Axes>"
            ]
          },
          "metadata": {
            "needs_background": "light",
            "tags": []
          },
          "output_type": "display_data"
        },
        {
          "data": {
            "image/png": "[encoded data removed]",
            "text/plain": [
              "<Figure size 1440x360 with 6 Axes>"
            ]
          },
          "metadata": {
            "needs_background": "light",
            "tags": []
          },
          "output_type": "display_data"
        },
        {
          "data": {
            "image/png": "[encoded data removed]",
            "text/plain": [
              "<Figure size 1440x360 with 6 Axes>"
            ]
          },
          "metadata": {
            "needs_background": "light",
            "tags": []
          },
          "output_type": "display_data"
        }
      ],
      "source": [
        "count = 0\n",
        "def search_false(query, candidates, query_true):\n",
        "  sorted_indexes = test_model(query, candidates)\n",
        "  return sorted_indexes[0]\n",
        "\n",
        "def plot_cases(caseID, false_index):\n",
        "    f, axes = plt.subplots(1, 6, figsize=(20,5))\n",
        "    # plot anchor image\n",
        "    axes[0].imshow(queries[caseID, 0])\n",
        "    axes[0].set_title(f\"Anchor image case {caseID}\", fontsize=10)\n",
        "    # show all test images images \n",
        "    [ax.imshow(candidates_sets[caseID, i]) for i, ax in enumerate(axes[1:])]\n",
        "    \n",
        "    # Add the patch to the Axes\n",
        "    axes[queries_true[caseID]].add_patch(Rectangle((0,0),27,27,linewidth=2, edgecolor='r',facecolor='none'))\n",
        "    axes[false_index].add_patch(Rectangle((0,0),27,27,linewidth=2, edgecolor='b',facecolor='none'))\n",
        "\n",
        "false_result=[]\n",
        "true_index=[]\n",
        "false_index=[]\n",
        "for (a, b, c) in zip(queries, candidates_sets, queries_true):\n",
        "  count=count+1\n",
        "  if test_top_1(a,b,c)==False:\n",
        "    false_result.append(count-1)\n",
        "    true_index.append(c)\n",
        "    false_index.append(search_false(a,b,c))\n",
        "    plot_cases(count-1,search_false(a,b,c))\n",
        "\n",
        "print(false_result)\n",
        "print(true_index)\n",
        "print(false_index)\n",
        "\n",
        "#[plot_cases(j,k-1) for (j,k) in zip(false_result,false_index)];"
      ]
    }
  ],
  "metadata": {
    "accelerator": "GPU",
    "colab": {
      "collapsed_sections": [],
      "name": "task1.1.ipynb",
      "provenance": []
    },
    "kernelspec": {
      "display_name": "Python 3",
      "language": "python",
      "name": "python3"
    },
    "language_info": {
      "codemirror_mode": {
        "name": "ipython",
        "version": 3
      },
      "file_extension": ".py",
      "mimetype": "text/x-python",
      "name": "python",
      "nbconvert_exporter": "python",
      "pygments_lexer": "ipython3",
      "version": "3.7.3"
    }
  },
  "nbformat": 4,
  "nbformat_minor": 0
}
